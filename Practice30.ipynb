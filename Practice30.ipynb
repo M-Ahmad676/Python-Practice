{
 "cells": [
  {
   "cell_type": "code",
   "execution_count": 2,
   "metadata": {},
   "outputs": [
    {
     "name": "stdout",
     "output_type": "stream",
     "text": [
      "bella\n",
      "cat\n",
      "Animal\n",
      "Animal\n",
      "True\n",
      "False\n"
     ]
    }
   ],
   "source": [
    "class Pet:\n",
    "    def __init__(self,name,type):\n",
    "        self.name = name\n",
    "        self.type = type\n",
    "\n",
    "    kingdom = \"Animal\"\n",
    "\n",
    "    @staticmethod \n",
    "    def is_valid_age(age):\n",
    "        if age > 0:\n",
    "            return True\n",
    "        else:\n",
    "            return False\n",
    "\n",
    "p1 = Pet(\"bella\",\"Dog\")\n",
    "p2 = Pet(\"Milo\", \"cat\")\n",
    "\n",
    "print(p1.name)\n",
    "print(p2.type)\n",
    "print(Pet.kingdom)\n",
    "print(p1.kingdom)\n",
    "\n",
    "print(Pet.is_valid_age(6))\n",
    "print(Pet.is_valid_age(-2))"
   ]
  },
  {
   "cell_type": "code",
   "execution_count": 1,
   "metadata": {},
   "outputs": [
    {
     "name": "stdout",
     "output_type": "stream",
     "text": [
      "Honda has 4\n",
      "Toyota has 4\n"
     ]
    }
   ],
   "source": [
    "class Car:\n",
    "    wheels = 4\n",
    "    def __init__(self,make, model):\n",
    "        self.make = make\n",
    "        self.model = model\n",
    "    \n",
    "car1 = Car(\"Honda\", \"Civic\")\n",
    "car2 = Car(\"Toyota\", \"Supra\")\n",
    "\n",
    "print(f\"{car1.make} has {car1.wheels} wheels\")\n",
    "print(f\"{car2.make} has {car2.wheels} wheels\")"
   ]
  },
  {
   "cell_type": "code",
   "execution_count": 2,
   "metadata": {},
   "outputs": [
    {
     "name": "stdout",
     "output_type": "stream",
     "text": [
      "Emplyee Name: Harris\n",
      "Emplyee Post: Designer\n",
      "Emplyee salary: 130000 PKR\n",
      "Emplyee Name: Kamran\n",
      "Emplyee Post: Front-End\n",
      "Emplyee salary: 100000 PKR\n",
      "Emplyee Name: Sarah\n",
      "Emplyee Post: UI/UX\n",
      "Emplyee salary: 120000 PKR\n"
     ]
    }
   ],
   "source": [
    "class Person:\n",
    "    def display_info (self, emp_name, emp_post, emp_salary):\n",
    "       \n",
    "       print(f\"Emplyee Name: {emp_name}\")\n",
    "       print(f\"Emplyee Post: {emp_post}\")\n",
    "       print(f\"Emplyee salary: {emp_salary}\")\n",
    "\n",
    "P1 = Person()\n",
    "P2 = Person()\n",
    "P3 = Person()\n",
    "P1.display_info(\"Harris\", \"Designer\", \"130000 PKR\")\n",
    "P2.display_info(\"Kamran\", \"Front-End\", \"100000 PKR\")\n",
    "P3.display_info(\"Sarah\", \"UI/UX\", \"120000 PKR\")\n"
   ]
  },
  {
   "cell_type": "code",
   "execution_count": 4,
   "metadata": {},
   "outputs": [
    {
     "name": "stdout",
     "output_type": "stream",
     "text": [
      "Milo is a Cat\n",
      "['Milo', 'cat']\n"
     ]
    }
   ],
   "source": [
    "class Pet:\n",
    "    kingdom = \"Animal\"\n",
    "    def __init__(self, name, pet_type):\n",
    "        self.name = name\n",
    "        self.pet_type = pet_type\n",
    "        pass\n",
    "    \n",
    "    def describe(self):\n",
    "        return f\"{self.name} is a {self.pet_type}\"\n",
    "    \n",
    "    @classmethod\n",
    "    def from_string(cls, pet_str):\n",
    "         return pet_str.split(\"-\")\n",
    "    \n",
    "p1 = Pet(\"Milo\", \"Cat\")\n",
    "print(p1.describe())\n",
    "print(Pet.from_string(\"Milo-cat\"))"
   ]
  }
 ],
 "metadata": {
  "kernelspec": {
   "display_name": "Python 3",
   "language": "python",
   "name": "python3"
  },
  "language_info": {
   "codemirror_mode": {
    "name": "ipython",
    "version": 3
   },
   "file_extension": ".py",
   "mimetype": "text/x-python",
   "name": "python",
   "nbconvert_exporter": "python",
   "pygments_lexer": "ipython3",
   "version": "3.13.3"
  }
 },
 "nbformat": 4,
 "nbformat_minor": 2
}
