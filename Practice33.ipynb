{
 "cells": [
  {
   "cell_type": "code",
   "execution_count": 3,
   "metadata": {},
   "outputs": [
    {
     "name": "stdout",
     "output_type": "stream",
     "text": [
      "Name:Wajahat Age:23, Specialization:Software Engineering\n",
      "Name:Arham Age:22, specialization:Software Engineering\n"
     ]
    }
   ],
   "source": [
    "\n",
    "class Student:\n",
    "    def __init__(self, name, age):\n",
    "        self.name = name\n",
    "        self.age = age\n",
    "    def define(self):\n",
    "        return f\"Name:{self.name} Age:{self.age}\"\n",
    "\n",
    "class Ai_student(Student):\n",
    "    def __init__(self,name,age,specialization):\n",
    "        super().__init__(name, age)\n",
    "        self.specialization = specialization\n",
    "    def define(self):\n",
    "        return f\"{super().define()}, Specialization:{self.specialization}\"\n",
    "\n",
    "class Cloud_student(Student):\n",
    "    def __init__(self,name,age,specialization):\n",
    "        super().__init__(name,age)\n",
    "        self.specialization = specialization\n",
    "    def define(self):\n",
    "        return f\"{super().define()}, specialization:{self.specialization}\"\n",
    "    \n",
    "\n",
    "\n",
    "s1 = Ai_student(\"Wajahat\",23,\"Software Engineering\")\n",
    "s2 = Cloud_student(\"Arham\",22,\"Software Engineering\")\n",
    "print(s1.define())\n",
    "print(s2.define())\n",
    "\n"
   ]
  },
  {
   "cell_type": "code",
   "execution_count": 6,
   "metadata": {},
   "outputs": [
    {
     "name": "stdout",
     "output_type": "stream",
     "text": [
      "withdrawal successful new balance: 2000\n",
      "Withdrawal successful. New balance: -2000\n",
      "can not withdraw 4000 overdraft limit exceeded\n"
     ]
    }
   ],
   "source": [
    "class Account:\n",
    "    def __init__(self, owner, balance = 0):\n",
    "        self.owner = owner\n",
    "        self.balance = balance\n",
    "    def deposit(self, amount):\n",
    "        self.balance +=amount\n",
    "    def withdraw(self, amount):\n",
    "        self.balance -= amount\n",
    "    def display_balance(self):\n",
    "        print(f\"Your Balance : {self.balance}\")\n",
    "\n",
    "class savingAccount(Account):\n",
    "    min_balance = 1000\n",
    "    def __init__(self,owner, balance):\n",
    "        super().__init__(owner,balance)\n",
    "    def withdraw(self, amount):\n",
    "        if self.balance - amount > self.min_balance:\n",
    "           super().withdraw(amount)\n",
    "           print(f\"withdrawal successful new balance: {self.balance}\")\n",
    "        else:\n",
    "            print(\"insufficent balance\")\n",
    "\n",
    "class checkingAccount(Account):\n",
    "    overdraft_limit = 5000\n",
    "    def __init__(self, owner, balance):\n",
    "        super().__init__(owner, balance)\n",
    "    def withdraw(self, amount):\n",
    "        overdraft_limit = 5000\n",
    "        if self.balance - amount >= -overdraft_limit:\n",
    "            super().withdraw(amount)\n",
    "            print(f\"Withdrawal successful. New balance: {self.balance}\")\n",
    "        else:\n",
    "             print(f\"can not withdraw amount {amount} overdraft limit exceeded\")\n",
    "    \n",
    "\n",
    "\n",
    "s1 = savingAccount(\"arshad\", 10000)\n",
    "s1.withdraw(8000)\n",
    "c1 = checkingAccount(\"sarah\", 4000)\n",
    "c1.withdraw(6000)\n",
    "c1.withdraw(4000)"
   ]
  },
  {
   "cell_type": "code",
   "execution_count": null,
   "metadata": {},
   "outputs": [],
   "source": []
  }
 ],
 "metadata": {
  "kernelspec": {
   "display_name": "Python 3",
   "language": "python",
   "name": "python3"
  },
  "language_info": {
   "codemirror_mode": {
    "name": "ipython",
    "version": 3
   },
   "file_extension": ".py",
   "mimetype": "text/x-python",
   "name": "python",
   "nbconvert_exporter": "python",
   "pygments_lexer": "ipython3",
   "version": "3.13.3"
  }
 },
 "nbformat": 4,
 "nbformat_minor": 2
}
